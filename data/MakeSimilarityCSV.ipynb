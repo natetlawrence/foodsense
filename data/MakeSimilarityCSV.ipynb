{
 "cells": [
  {
   "cell_type": "code",
   "execution_count": 1,
   "metadata": {
    "collapsed": true
   },
   "outputs": [],
   "source": [
    "import json\n",
    "import pandas as pd\n",
    "def flatten(d, parent_key='', sep='_'):\n",
    "    items = []\n",
    "    for k, v in d.items():\n",
    "        new_key = parent_key + sep + k if parent_key else k\n",
    "        if isinstance(v, dict):\n",
    "            items.extend(flatten(v, new_key, sep=sep).items())\n",
    "        else:\n",
    "            items.append((new_key, v))\n",
    "    return dict(items)"
   ]
  },
  {
   "cell_type": "code",
   "execution_count": 64,
   "metadata": {
    "collapsed": false
   },
   "outputs": [],
   "source": [
    "metadata = []\n",
    "with open('scraped_metadata3/MasterMetadata3.txt','r') as f:\n",
    "    for line in f:\n",
    "        metadata.append(json.loads(line.strip()))\n",
    "for item in metadata:\n",
    "    item['categories'] = ', '.join(item['categories'].keys())\n",
    "df = pd.DataFrame.from_dict(metadata)\n",
    "#df.to_csv('MasterMetadata2.csv',encoding='utf-8')"
   ]
  },
  {
   "cell_type": "code",
   "execution_count": 117,
   "metadata": {
    "collapsed": false
   },
   "outputs": [],
   "source": [
    "simscores = []\n",
    "with open('scraped_reviews/ElFarolitoSimilarities.csv','r') as f:\n",
    "    for line in f:\n",
    "        simscores.append(line)"
   ]
  },
  {
   "cell_type": "code",
   "execution_count": 118,
   "metadata": {
    "collapsed": false
   },
   "outputs": [],
   "source": [
    "simsdf = pd.DataFrame.from_csv('scraped_reviews/ElFarolitoSimilarities.csv')"
   ]
  },
  {
   "cell_type": "code",
   "execution_count": 119,
   "metadata": {
    "collapsed": false
   },
   "outputs": [],
   "source": [
    "dfm = simsdf.merge(df,on='BizName')"
   ]
  },
  {
   "cell_type": "code",
   "execution_count": 68,
   "metadata": {
    "collapsed": false
   },
   "outputs": [],
   "source": [
    "dfm[['BizName','latitude','longitude','Color','Score','categories','href']].to_csv('ElFarolitoSimilarities.csv',encoding='utf-8',index=False)"
   ]
  },
  {
   "cell_type": "code",
   "execution_count": 121,
   "metadata": {
    "collapsed": false
   },
   "outputs": [],
   "source": [
    "gjl = []\n",
    "for ind, item in dfm.iterrows():\n",
    "    gj = dict()\n",
    "    gj['type'] = 'Feature'\n",
    "    gj['geometry'] = {'type':'Point', 'coordinates':[item['longitude'],item['latitude']]}\n",
    "    desc = 'Rating Differential: '+str(item['Score'])+'\\nCategories: '+item['categories']\n",
    "    gj['properties'] = {'title':item['BizName'], 'description' : desc, 'marker-color' : item['Color'], \n",
    "                        \"marker-size\": \"medium\"}\n",
    "    gjl.append(gj)"
   ]
  },
  {
   "cell_type": "code",
   "execution_count": 122,
   "metadata": {
    "collapsed": false
   },
   "outputs": [],
   "source": [
    "with open('ElFarolitoSimilarities.geojson','w') as f:\n",
    "    for line in json.dumps(gjl,indent=2, separators=(',', ': ')):\n",
    "        f.write(line.encode('utf-8'))"
   ]
  }
 ],
 "metadata": {
  "kernelspec": {
   "display_name": "Python 2",
   "language": "python",
   "name": "python2"
  },
  "language_info": {
   "codemirror_mode": {
    "name": "ipython",
    "version": 2
   },
   "file_extension": ".py",
   "mimetype": "text/x-python",
   "name": "python",
   "nbconvert_exporter": "python",
   "pygments_lexer": "ipython2",
   "version": "2.7.10"
  }
 },
 "nbformat": 4,
 "nbformat_minor": 0
}
