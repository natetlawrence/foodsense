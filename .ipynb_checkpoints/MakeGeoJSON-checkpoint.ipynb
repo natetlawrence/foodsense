{
 "cells": [
  {
   "cell_type": "code",
   "execution_count": 15,
   "metadata": {
    "collapsed": true
   },
   "outputs": [],
   "source": [
    "import json\n",
    "import pandas as pd\n",
    "import matplotlib.cm\n",
    "import sqlite3\n",
    "from colour import Color\n",
    "def flatten(d, parent_key='', sep='_'):\n",
    "    items = []\n",
    "    for k, v in d.items():\n",
    "        new_key = parent_key + sep + k if parent_key else k\n",
    "        if isinstance(v, dict):\n",
    "            items.extend(flatten(v, new_key, sep=sep).items())\n",
    "        else:\n",
    "            items.append((new_key, v))\n",
    "    return dict(items)"
   ]
  },
  {
   "cell_type": "code",
   "execution_count": 10,
   "metadata": {
    "collapsed": true
   },
   "outputs": [],
   "source": [
    "metadata = []\n",
    "with open('scraped_metadata3/MasterMetadata3.txt','r') as f:\n",
    "    for line in f:\n",
    "        metadata.append(json.loads(line.strip()))\n",
    "for item in metadata:\n",
    "    item['categories'] = ', '.join(item['categories'].keys())\n",
    "df = pd.DataFrame.from_dict(metadata)"
   ]
  },
  {
   "cell_type": "code",
   "execution_count": 27,
   "metadata": {
    "collapsed": false
   },
   "outputs": [],
   "source": [
    "# all ratings for business\n",
    "dbfilename = 'scraped_reviews/SimilaritiesUnique.db'\n",
    "Ratings = []\n",
    "biz = 'El Farolito'\n",
    "with sqlite3.connect(dbfilename) as conn:\n",
    "    cursor = conn.cursor()\n",
    "    cursor.execute(\"\"\"\n",
    "    select *\n",
    "    from {0}\n",
    "    where (business1 is \"{1}\" or business2 is \"{1}\") and revcount > 100\n",
    "    order by diffscore asc\n",
    "    \"\"\".format('similarities',biz))\n",
    "    temp = cursor.fetchall()\n",
    "    #for tt in range(0, len(temp)):\n",
    "    #    Ratings.append(temp[tt][0])\n",
    "names = [i2 for i1 in temp for i2 in i1 if (not i2 == biz and type(i2) is unicode)]\n",
    "scores = [item[4] for item in temp]\n",
    "colorInd = [int(round(255*(score - min(scores))/(max(scores) - min(scores)))) for score in scores]\n",
    "colors = [Color(rgb=matplotlib.cm.Reds(ind)[:-1][::-1]).hex for ind in colorInd]\n",
    "names.insert(0,biz)\n",
    "scores.insert(0,0)\n",
    "colors.insert(0,Color('blue').hex)"
   ]
  },
  {
   "cell_type": "code",
   "execution_count": 35,
   "metadata": {
    "collapsed": true
   },
   "outputs": [],
   "source": [
    "sims = []\n",
    "for item in zip(names, scores, colors):\n",
    "    sims.append(item)"
   ]
  },
  {
   "cell_type": "code",
   "execution_count": 41,
   "metadata": {
    "collapsed": true
   },
   "outputs": [],
   "source": [
    "simsdf = pd.DataFrame(sims, columns=['BizName','Score','Color'])"
   ]
  },
  {
   "cell_type": "code",
   "execution_count": 43,
   "metadata": {
    "collapsed": false
   },
   "outputs": [],
   "source": [
    "dfm = simsdf.merge(df,on='BizName')"
   ]
  },
  {
   "cell_type": "code",
   "execution_count": 44,
   "metadata": {
    "collapsed": true
   },
   "outputs": [],
   "source": [
    "gjl = []\n",
    "for ind, item in dfm.iterrows():\n",
    "    gj = dict()\n",
    "    gj['type'] = 'Feature'\n",
    "    gj['geometry'] = {'type':'Point', 'coordinates':[item['longitude'],item['latitude']]}\n",
    "    desc = 'Rating Differential: '+str(item['Score'])+'\\nCategories: '+item['categories']\n",
    "    gj['properties'] = {'title':item['BizName'], 'description' : desc, 'marker-color' : item['Color'], \n",
    "                        \"marker-size\": \"medium\"}\n",
    "    gjl.append(gj)"
   ]
  },
  {
   "cell_type": "code",
   "execution_count": 45,
   "metadata": {
    "collapsed": true
   },
   "outputs": [],
   "source": [
    "with open('ElFarolitoSimilarities.geojson','w') as f:\n",
    "    for line in json.dumps(gjl,indent=2, separators=(',', ': ')):\n",
    "        f.write(line.encode('utf-8'))"
   ]
  },
  {
   "cell_type": "markdown",
   "metadata": {},
   "source": []
  }
 ],
 "metadata": {
  "kernelspec": {
   "display_name": "Python 2",
   "language": "python",
   "name": "python2"
  },
  "language_info": {
   "codemirror_mode": {
    "name": "ipython",
    "version": 2
   },
   "file_extension": ".py",
   "mimetype": "text/x-python",
   "name": "python",
   "nbconvert_exporter": "python",
   "pygments_lexer": "ipython2",
   "version": "2.7.10"
  }
 },
 "nbformat": 4,
 "nbformat_minor": 0
}
