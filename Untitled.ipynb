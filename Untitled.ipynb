{
 "cells": [
  {
   "cell_type": "code",
   "execution_count": 14,
   "metadata": {
    "collapsed": true
   },
   "outputs": [],
   "source": [
    "import numpy as np\n",
    "import sys"
   ]
  },
  {
   "cell_type": "code",
   "execution_count": 12,
   "metadata": {
    "collapsed": true
   },
   "outputs": [],
   "source": [
    "l = range(10000)\n",
    "d = dict(zip(l,l))"
   ]
  },
  {
   "cell_type": "code",
   "execution_count": 13,
   "metadata": {
    "collapsed": false
   },
   "outputs": [
    {
     "name": "stdout",
     "output_type": "stream",
     "text": [
      "The slowest run took 21.42 times longer than the fastest. This could mean that an intermediate result is being cached \n",
      "100000 loops, best of 3: 2.43 µs per loop\n"
     ]
    }
   ],
   "source": [
    "%%timeit\n",
    "#np.random.randint(10000)\n",
    "#l.index(np.random.randint(10000))\n",
    "d[np.random.randint(10000)]"
   ]
  },
  {
   "cell_type": "code",
   "execution_count": 17,
   "metadata": {
    "collapsed": false
   },
   "outputs": [
    {
     "name": "stdout",
     "output_type": "stream",
     "text": [
      "786712\n",
      "80072\n"
     ]
    }
   ],
   "source": [
    "print sys.getsizeof(d)\n",
    "print sys.getsizeof(l)"
   ]
  },
  {
   "cell_type": "code",
   "execution_count": 20,
   "metadata": {
    "collapsed": true
   },
   "outputs": [],
   "source": [
    "a = np.arange(100).reshape(10,10)\n",
    "b = np.array([[3,4],[13,14]])"
   ]
  },
  {
   "cell_type": "code",
   "execution_count": 29,
   "metadata": {
    "collapsed": false
   },
   "outputs": [
    {
     "data": {
      "text/plain": [
       "True"
      ]
     },
     "execution_count": 29,
     "metadata": {},
     "output_type": "execute_result"
    }
   ],
   "source": [
    "(a[0:2,3:5] == b).all()"
   ]
  },
  {
   "cell_type": "code",
   "execution_count": 31,
   "metadata": {
    "collapsed": false
   },
   "outputs": [
    {
     "data": {
      "text/plain": [
       "[[9, 9, 9], [8, 8, 8]]"
      ]
     },
     "execution_count": 31,
     "metadata": {},
     "output_type": "execute_result"
    }
   ],
   "source": [
    "[map(int,item) for item in ['999','888']]"
   ]
  },
  {
   "cell_type": "code",
   "execution_count": 34,
   "metadata": {
    "collapsed": false
   },
   "outputs": [
    {
     "data": {
      "text/plain": [
       "0"
      ]
     },
     "execution_count": 34,
     "metadata": {},
     "output_type": "execute_result"
    }
   ],
   "source": [
    "'asdfag'.index('asdf')"
   ]
  },
  {
   "cell_type": "code",
   "execution_count": 113,
   "metadata": {
    "collapsed": false
   },
   "outputs": [
    {
     "name": "stdout",
     "output_type": "stream",
     "text": [
      "1234 12\n",
      "[0, 1]\n",
      "NO\n"
     ]
    }
   ],
   "source": [
    "G = ['111111111111111','111111111111111','111111011111111','111111111111111','111111111111111']\n",
    "P = ['11111','11111','11110']\n",
    "#G=['7652157548860692421022503', '9283597467877865303553675', '4160389485250089289309493', '2583470721457150497569300', '3220130778636571709490905', '3588873017660047694725749', '9288991387848870159567061', '4840101673383478700737237', '8430916536880190158229898', '8986106490042260460547150', '2591460395957631878779378', '1816190871689680423501920', '0704047294563387014281341', '8544774664056811258209321', '9609294756392563447060526', '0170173859593369054590795', '6088985673796975810221577', '7738800757919472437622349', '5474120045253009653348388', '3930491401877849249410013', '1486477041403746396925337', '2955579022827592919878713', '2625547961868100985291514', '3673299809851325174555652', '4533398973801647859680907']\n",
    "#P=['5250', '1457', '8636', '7660', '7848']\n",
    "G = ['1234','4321','9999','9999']\n",
    "P=['12','21']\n",
    "P1 = P[0]\n",
    "for i, row in enumerate(G):\n",
    "    if i+len(P) > len(G):\n",
    "        continue\n",
    "    if P1 in row:\n",
    "        print row, P1\n",
    "        indicies = list(set([row[ii:].find(P1)+ii for ii in range(len(row)-len(P1)+1)]))\n",
    "        print indicies\n",
    "        for index in indicies:\n",
    "            #print row, i, index\n",
    "            #print all([P[j] == G[i+j][index:index+len(P1)] for j in range(1,len(P))])\n",
    "            if [P[j] for j in range(1,len(P))] == [G[i+j][index:index+len(P1)] for j in range(1,len(P))]:\n",
    "                print 'YES'\n",
    "                break\n",
    "else:\n",
    "    print 'NO'"
   ]
  },
  {
   "cell_type": "code",
   "execution_count": 107,
   "metadata": {
    "collapsed": false
   },
   "outputs": [
    {
     "data": {
      "text/plain": [
       "1"
      ]
     },
     "execution_count": 107,
     "metadata": {},
     "output_type": "execute_result"
    }
   ],
   "source": [
    "ii"
   ]
  },
  {
   "cell_type": "code",
   "execution_count": 106,
   "metadata": {
    "collapsed": false
   },
   "outputs": [
    {
     "name": "stdout",
     "output_type": "stream",
     "text": [
      "0 1 2 4\n"
     ]
    },
    {
     "data": {
      "text/plain": [
       "True"
      ]
     },
     "execution_count": 106,
     "metadata": {},
     "output_type": "execute_result"
    }
   ],
   "source": [
    "print i,j,len(P),len(G)\n",
    "all([P[j] == G[i+j][index:index+len(P1)] for j in range(1,len(P))])"
   ]
  },
  {
   "cell_type": "code",
   "execution_count": 71,
   "metadata": {
    "collapsed": false
   },
   "outputs": [
    {
     "name": "stdout",
     "output_type": "stream",
     "text": [
      "['1457', '8636', '7660', '7848']\n",
      "['1457', '8636', '7660', '7848']\n"
     ]
    }
   ],
   "source": [
    "i = 2\n",
    "index = 9\n",
    "print [P[j] for j in range(1,len(P))]\n",
    "print [G[i+j][index:index+len(P1)] for j in range(1,len(P))]"
   ]
  },
  {
   "cell_type": "code",
   "execution_count": 55,
   "metadata": {
    "collapsed": false
   },
   "outputs": [
    {
     "data": {
      "text/plain": [
       "3"
      ]
     },
     "execution_count": 55,
     "metadata": {},
     "output_type": "execute_result"
    }
   ],
   "source": [
    "index"
   ]
  },
  {
   "cell_type": "code",
   "execution_count": 74,
   "metadata": {
    "collapsed": false
   },
   "outputs": [],
   "source": [
    "s = '1111'"
   ]
  },
  {
   "cell_type": "code",
   "execution_count": 112,
   "metadata": {
    "collapsed": false
   },
   "outputs": [
    {
     "data": {
      "text/plain": [
       "[0, 1, 4, 5, 6]"
      ]
     },
     "execution_count": 112,
     "metadata": {},
     "output_type": "execute_result"
    }
   ],
   "source": [
    "s = '111011110'\n",
    "t = '11'\n",
    "list(set([s[i:].find(t)+i for i in range(len(s)-len(t)+1)]))"
   ]
  },
  {
   "cell_type": "code",
   "execution_count": 111,
   "metadata": {
    "collapsed": false
   },
   "outputs": [
    {
     "data": {
      "text/plain": [
       "-1"
      ]
     },
     "execution_count": 111,
     "metadata": {},
     "output_type": "execute_result"
    }
   ],
   "source": [
    "'abc'.find('f',False)"
   ]
  },
  {
   "cell_type": "code",
   "execution_count": null,
   "metadata": {
    "collapsed": true
   },
   "outputs": [],
   "source": []
  }
 ],
 "metadata": {
  "kernelspec": {
   "display_name": "Python 2",
   "language": "python",
   "name": "python2"
  },
  "language_info": {
   "codemirror_mode": {
    "name": "ipython",
    "version": 2
   },
   "file_extension": ".py",
   "mimetype": "text/x-python",
   "name": "python",
   "nbconvert_exporter": "python",
   "pygments_lexer": "ipython2",
   "version": "2.7.10"
  }
 },
 "nbformat": 4,
 "nbformat_minor": 0
}
